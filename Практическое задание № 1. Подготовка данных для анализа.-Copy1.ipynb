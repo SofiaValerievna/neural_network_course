{
 "cells": [
  {
   "cell_type": "markdown",
   "id": "deaacae1",
   "metadata": {},
   "source": [
    "**Исследование данных о закупках продуктов питания в США за период 2018-2019 годов**"
   ]
  },
  {
   "cell_type": "markdown",
   "id": "2653f265",
   "metadata": {},
   "source": [
    "# Шаг 1. Загрузка данных\n",
    "## Скачайте набор данных (например, CSV-файл с данными о продажах, статистике, или любые другие данные, которые вас интересуют).\n",
    "\n",
    "## Используйте библиотеку Pandas, чтобы загрузить данные в Python и создать DataFrame."
   ]
  },
  {
   "cell_type": "markdown",
   "id": "9f60ac0d",
   "metadata": {},
   "source": [
    "__В наборе данных сожержатся следующие столбцы:__\n",
    "\n",
    "- Agency\t- руководящий орган, ответственный за закупки продуктов питания, предоставляющий представление о выборе рациона питания в учреждениях.\n",
    "\n",
    "\n",
    "- Time Period\t- конкретная продолжительность закупок, охватывающая период с 2018 по 2019 год, указывающая на меняющиеся диетические тенденции с течением времени.\n",
    "\n",
    "\n",
    "- Food Product Group\t- Широкая классификация продуктов питания, охватывающая такие категории, как блюда или напитки, с указанием разнообразных кулинарных предпочтений.\n",
    "\n",
    "\n",
    "- Food Product Category\t- подробная подкатегория в рамках более широкой группы продуктов питания, позволяющая получить конкретное представление о предпочтениях в еде.\n",
    "\n",
    "\n",
    "- Product Name\t- Уникальное название, присвоенное каждому пищевому продукту, позволяющее точно идентифицировать его.\n",
    "\n",
    "\n",
    "- Product Type\t- подробное описание варианта продукта, содержащее подробные сведения о конкретном кулинарном предложении.\n",
    "\n",
    "\n",
    "- Origin Detail\t- Информация о происхождении продукта или источнике, проливающая свет на географическое разнообразие закупаемых продуктов.\n",
    "\n",
    "\n",
    "- Distributor\t- Компания, ответственная за дистрибуцию продуктов, с указанием ключевых участников цепочки поставок.\n",
    "\n",
    "\n",
    "- Vendor\t- Индивидуальный поставщик продуктов, повышающий степень детализации процесса закупок.\n",
    "\n",
    "\n",
    "- № of Units\t-  Количество закупленных единиц, позволяющее получить представление о масштабах деятельности по обеспечению продуктами питания.\n",
    "\n",
    "\n",
    "- Total Weight in lbs\t- Совокупный вес закупленных продуктов в фунтах, предоставляющий данные об объеме приобретенных продуктов.\n",
    "\n",
    "\n",
    "- Total Cost - общие расходы, понесенные на закупку, с учетом финансового анализа практики закупок продуктов питания."
   ]
  },
  {
   "cell_type": "code",
   "execution_count": 1,
   "id": "89b86dcf",
   "metadata": {},
   "outputs": [],
   "source": [
    "import pandas as pd # импортируем библиотеку для обработки датасетов\n",
    "import matplotlib.pyplot as plt # импортируем библиотеку для построения графиков"
   ]
  },
  {
   "cell_type": "code",
   "execution_count": 2,
   "id": "fffa780d",
   "metadata": {},
   "outputs": [],
   "source": [
    "# загрузим датасет в переменную data\n",
    "\n",
    "data = pd.read_csv('C://Users//Sofia//Downloads//Good_Food_Purchasing_Data.csv')"
   ]
  },
  {
   "cell_type": "markdown",
   "id": "e7eec511",
   "metadata": {},
   "source": [
    "# Шаг 2. Анализ данных\n",
    "\n",
    "## Оцените общий вид данных: выведите первые несколько строк DataFrame, проверьте наличие пропущенных значений и типы данных столбцов."
   ]
  },
  {
   "cell_type": "code",
   "execution_count": 3,
   "id": "b486e528",
   "metadata": {},
   "outputs": [
    {
     "data": {
      "text/html": [
       "<div>\n",
       "<style scoped>\n",
       "    .dataframe tbody tr th:only-of-type {\n",
       "        vertical-align: middle;\n",
       "    }\n",
       "\n",
       "    .dataframe tbody tr th {\n",
       "        vertical-align: top;\n",
       "    }\n",
       "\n",
       "    .dataframe thead th {\n",
       "        text-align: right;\n",
       "    }\n",
       "</style>\n",
       "<table border=\"1\" class=\"dataframe\">\n",
       "  <thead>\n",
       "    <tr style=\"text-align: right;\">\n",
       "      <th></th>\n",
       "      <th>Agency</th>\n",
       "      <th>Time Period</th>\n",
       "      <th>Food Product Group</th>\n",
       "      <th>Food Product Category</th>\n",
       "      <th>Product Name</th>\n",
       "      <th>Product Type</th>\n",
       "      <th>Origin Detail</th>\n",
       "      <th>Distributor</th>\n",
       "      <th>Vendor</th>\n",
       "      <th># of Units</th>\n",
       "      <th>Total Weight in lbs</th>\n",
       "      <th>Total Cost</th>\n",
       "    </tr>\n",
       "  </thead>\n",
       "  <tbody>\n",
       "    <tr>\n",
       "      <th>0</th>\n",
       "      <td>Administration for Childrens Services</td>\n",
       "      <td>2018-2019</td>\n",
       "      <td>Meals</td>\n",
       "      <td>Meals</td>\n",
       "      <td>baby food, dinner, assorted</td>\n",
       "      <td>Stage 2 Baby Food Dinner, Assorted Variety</td>\n",
       "      <td>Beech-Nut</td>\n",
       "      <td>Babylab Inc.</td>\n",
       "      <td>Babylab Inc.</td>\n",
       "      <td>40.0</td>\n",
       "      <td>100.0</td>\n",
       "      <td>560.0</td>\n",
       "    </tr>\n",
       "    <tr>\n",
       "      <th>1</th>\n",
       "      <td>Administration for Childrens Services</td>\n",
       "      <td>2018-2019</td>\n",
       "      <td>Meals</td>\n",
       "      <td>Meals</td>\n",
       "      <td>baby food, dinner, assorted</td>\n",
       "      <td>Stage 3 Baby Food Dinner, Assorted Variety</td>\n",
       "      <td>Beech-Nut</td>\n",
       "      <td>Babylab Inc.</td>\n",
       "      <td>Babylab Inc.</td>\n",
       "      <td>40.0</td>\n",
       "      <td>106.0</td>\n",
       "      <td>600.0</td>\n",
       "    </tr>\n",
       "    <tr>\n",
       "      <th>2</th>\n",
       "      <td>Administration for Childrens Services</td>\n",
       "      <td>2018-2019</td>\n",
       "      <td>Meals</td>\n",
       "      <td>Meals</td>\n",
       "      <td>baby food, formula</td>\n",
       "      <td>Premium Nursette Ready-to-Feed Infant Formula,...</td>\n",
       "      <td>Enfamil</td>\n",
       "      <td>Babylab Inc.</td>\n",
       "      <td>Babylab Inc.</td>\n",
       "      <td>200.0</td>\n",
       "      <td>1200.0</td>\n",
       "      <td>16200.0</td>\n",
       "    </tr>\n",
       "    <tr>\n",
       "      <th>3</th>\n",
       "      <td>Administration for Childrens Services</td>\n",
       "      <td>2018-2019</td>\n",
       "      <td>Beverages</td>\n",
       "      <td>Beverages</td>\n",
       "      <td>juice, fruit punch, ss</td>\n",
       "      <td>100% Juice Variety Pack, 4 fl oz bottles</td>\n",
       "      <td>Enfamil</td>\n",
       "      <td>Babylab Inc.</td>\n",
       "      <td>Babylab Inc.</td>\n",
       "      <td>100.0</td>\n",
       "      <td>600.0</td>\n",
       "      <td>1940.0</td>\n",
       "    </tr>\n",
       "    <tr>\n",
       "      <th>4</th>\n",
       "      <td>Administration for Childrens Services</td>\n",
       "      <td>2018-2019</td>\n",
       "      <td>Condiments &amp; Snacks</td>\n",
       "      <td>Condiments &amp; Snacks</td>\n",
       "      <td>cereal, baby, oatmeal</td>\n",
       "      <td>Single Grain Oatmeal Baby Cereal</td>\n",
       "      <td>Enfamil</td>\n",
       "      <td>Babylab Inc.</td>\n",
       "      <td>Babylab Inc.</td>\n",
       "      <td>10.0</td>\n",
       "      <td>60.0</td>\n",
       "      <td>290.0</td>\n",
       "    </tr>\n",
       "  </tbody>\n",
       "</table>\n",
       "</div>"
      ],
      "text/plain": [
       "                                  Agency Time Period   Food Product Group  \\\n",
       "0  Administration for Childrens Services   2018-2019                Meals   \n",
       "1  Administration for Childrens Services   2018-2019                Meals   \n",
       "2  Administration for Childrens Services   2018-2019                Meals   \n",
       "3  Administration for Childrens Services   2018-2019            Beverages   \n",
       "4  Administration for Childrens Services   2018-2019  Condiments & Snacks   \n",
       "\n",
       "  Food Product Category                 Product Name  \\\n",
       "0                 Meals  baby food, dinner, assorted   \n",
       "1                 Meals  baby food, dinner, assorted   \n",
       "2                 Meals           baby food, formula   \n",
       "3             Beverages       juice, fruit punch, ss   \n",
       "4   Condiments & Snacks        cereal, baby, oatmeal   \n",
       "\n",
       "                                        Product Type Origin Detail  \\\n",
       "0         Stage 2 Baby Food Dinner, Assorted Variety     Beech-Nut   \n",
       "1         Stage 3 Baby Food Dinner, Assorted Variety     Beech-Nut   \n",
       "2  Premium Nursette Ready-to-Feed Infant Formula,...       Enfamil   \n",
       "3           100% Juice Variety Pack, 4 fl oz bottles       Enfamil   \n",
       "4                   Single Grain Oatmeal Baby Cereal       Enfamil   \n",
       "\n",
       "    Distributor        Vendor  # of Units  Total Weight in lbs  Total Cost  \n",
       "0  Babylab Inc.  Babylab Inc.        40.0                100.0       560.0  \n",
       "1  Babylab Inc.  Babylab Inc.        40.0                106.0       600.0  \n",
       "2  Babylab Inc.  Babylab Inc.       200.0               1200.0     16200.0  \n",
       "3  Babylab Inc.  Babylab Inc.       100.0                600.0      1940.0  \n",
       "4  Babylab Inc.  Babylab Inc.        10.0                 60.0       290.0  "
      ]
     },
     "execution_count": 3,
     "metadata": {},
     "output_type": "execute_result"
    }
   ],
   "source": [
    "# выведем первые пять строк датасета\n",
    "\n",
    "data.head()"
   ]
  },
  {
   "cell_type": "code",
   "execution_count": 4,
   "id": "cc403574",
   "metadata": {},
   "outputs": [
    {
     "name": "stdout",
     "output_type": "stream",
     "text": [
      "<class 'pandas.core.frame.DataFrame'>\n",
      "RangeIndex: 17208 entries, 0 to 17207\n",
      "Data columns (total 12 columns):\n",
      " #   Column                 Non-Null Count  Dtype  \n",
      "---  ------                 --------------  -----  \n",
      " 0   Agency                 17208 non-null  object \n",
      " 1   Time Period            17208 non-null  object \n",
      " 2   Food Product Group     17208 non-null  object \n",
      " 3   Food Product Category  17208 non-null  object \n",
      " 4   Product Name           17207 non-null  object \n",
      " 5   Product Type           17208 non-null  object \n",
      " 6   Origin Detail          15059 non-null  object \n",
      " 7   Distributor            16297 non-null  object \n",
      " 8   Vendor                 16722 non-null  object \n",
      " 9   # of Units             17152 non-null  float64\n",
      " 10  Total Weight in lbs    17150 non-null  float64\n",
      " 11  Total Cost             3767 non-null   float64\n",
      "dtypes: float64(3), object(9)\n",
      "memory usage: 1.6+ MB\n"
     ]
    }
   ],
   "source": [
    "# посмотим общую информацию о данных и типы данных\n",
    "data.info()"
   ]
  },
  {
   "cell_type": "markdown",
   "id": "7e7832d2",
   "metadata": {},
   "source": [
    "Видим, что столбцы с 0 по 8 имеют тип данных object, с 9 по 11 - числа с плавающей точкой. Данные типы соответствуют заполнению колнок, изменять ничего не требуется."
   ]
  },
  {
   "cell_type": "code",
   "execution_count": 5,
   "id": "a1e3b6b9",
   "metadata": {},
   "outputs": [
    {
     "data": {
      "text/plain": [
       "(17208, 12)"
      ]
     },
     "execution_count": 5,
     "metadata": {},
     "output_type": "execute_result"
    }
   ],
   "source": [
    "# посмотрим количество строк и столбцов соответственно\n",
    "data.shape"
   ]
  },
  {
   "cell_type": "markdown",
   "id": "d0b37281",
   "metadata": {},
   "source": [
    "В наборе данных 17208 строк и 12 столбцов."
   ]
  },
  {
   "cell_type": "code",
   "execution_count": 6,
   "id": "c39d36c5",
   "metadata": {},
   "outputs": [
    {
     "name": "stdout",
     "output_type": "stream",
     "text": [
      "                       Missing Values  Percentage\n",
      "Agency                              0        0.00\n",
      "Time Period                         0        0.00\n",
      "Food Product Group                  0        0.00\n",
      "Food Product Category               0        0.00\n",
      "Product Name                        1        0.01\n",
      "Product Type                        0        0.00\n",
      "Origin Detail                    2149       12.49\n",
      "Distributor                       911        5.29\n",
      "Vendor                            486        2.82\n",
      "# of Units                         56        0.33\n",
      "Total Weight in lbs                58        0.34\n",
      "Total Cost                      13441       78.11\n"
     ]
    }
   ],
   "source": [
    "# посмотрим наличие пропусков\n",
    "\n",
    "# получим абсолютное количество пропусков\n",
    "missing_values = data.isnull().sum()\n",
    "\n",
    "# получим общее количество значений в каждом столбце\n",
    "total_values = data.shape[0]\n",
    "\n",
    "# вычислим процентное содержание пропусков\n",
    "percentage_missing = round((missing_values / total_values) * 100, 2)\n",
    "\n",
    "# создадим новый датафрейм с помодью метода contact, параметр axis=1 выводит его по столбцам\n",
    "missing_data = pd.concat([missing_values, percentage_missing], axis=1)\n",
    "\n",
    "# назовем колонки\n",
    "missing_data.columns = ['Missing Values', 'Percentage']\n",
    "\n",
    "print(missing_data)"
   ]
  },
  {
   "cell_type": "markdown",
   "id": "aa3b6b5c",
   "metadata": {},
   "source": [
    "Столбец Total Cost содержит критическое количество пропусков и нет возможности их корректного заполнения. Данный столбец придется удалить. \n",
    "\n",
    "Также столбец Total Weight in lbs, в котором содержится объем закупок в фунтах, не имеет ценности для данного исследования. "
   ]
  },
  {
   "cell_type": "code",
   "execution_count": 7,
   "id": "f54bbd10",
   "metadata": {},
   "outputs": [],
   "source": [
    "# создадим список столбцов для удаления\n",
    "columns_to_drop = ['Total Cost', 'Total Weight in lbs']\n",
    "\n",
    "# удалим столбцы\n",
    "data = data.drop(columns=columns_to_drop, axis=1)"
   ]
  },
  {
   "cell_type": "code",
   "execution_count": 8,
   "id": "2fd0db45",
   "metadata": {},
   "outputs": [
    {
     "data": {
      "text/html": [
       "<div>\n",
       "<style scoped>\n",
       "    .dataframe tbody tr th:only-of-type {\n",
       "        vertical-align: middle;\n",
       "    }\n",
       "\n",
       "    .dataframe tbody tr th {\n",
       "        vertical-align: top;\n",
       "    }\n",
       "\n",
       "    .dataframe thead th {\n",
       "        text-align: right;\n",
       "    }\n",
       "</style>\n",
       "<table border=\"1\" class=\"dataframe\">\n",
       "  <thead>\n",
       "    <tr style=\"text-align: right;\">\n",
       "      <th></th>\n",
       "      <th>Agency</th>\n",
       "      <th>Time Period</th>\n",
       "      <th>Food Product Group</th>\n",
       "      <th>Food Product Category</th>\n",
       "      <th>Product Name</th>\n",
       "      <th>Product Type</th>\n",
       "      <th>Origin Detail</th>\n",
       "      <th>Distributor</th>\n",
       "      <th>Vendor</th>\n",
       "      <th># of Units</th>\n",
       "    </tr>\n",
       "  </thead>\n",
       "  <tbody>\n",
       "    <tr>\n",
       "      <th>0</th>\n",
       "      <td>Administration for Childrens Services</td>\n",
       "      <td>2018-2019</td>\n",
       "      <td>Meals</td>\n",
       "      <td>Meals</td>\n",
       "      <td>baby food, dinner, assorted</td>\n",
       "      <td>Stage 2 Baby Food Dinner, Assorted Variety</td>\n",
       "      <td>Beech-Nut</td>\n",
       "      <td>Babylab Inc.</td>\n",
       "      <td>Babylab Inc.</td>\n",
       "      <td>40.0</td>\n",
       "    </tr>\n",
       "    <tr>\n",
       "      <th>1</th>\n",
       "      <td>Administration for Childrens Services</td>\n",
       "      <td>2018-2019</td>\n",
       "      <td>Meals</td>\n",
       "      <td>Meals</td>\n",
       "      <td>baby food, dinner, assorted</td>\n",
       "      <td>Stage 3 Baby Food Dinner, Assorted Variety</td>\n",
       "      <td>Beech-Nut</td>\n",
       "      <td>Babylab Inc.</td>\n",
       "      <td>Babylab Inc.</td>\n",
       "      <td>40.0</td>\n",
       "    </tr>\n",
       "    <tr>\n",
       "      <th>2</th>\n",
       "      <td>Administration for Childrens Services</td>\n",
       "      <td>2018-2019</td>\n",
       "      <td>Meals</td>\n",
       "      <td>Meals</td>\n",
       "      <td>baby food, formula</td>\n",
       "      <td>Premium Nursette Ready-to-Feed Infant Formula,...</td>\n",
       "      <td>Enfamil</td>\n",
       "      <td>Babylab Inc.</td>\n",
       "      <td>Babylab Inc.</td>\n",
       "      <td>200.0</td>\n",
       "    </tr>\n",
       "    <tr>\n",
       "      <th>3</th>\n",
       "      <td>Administration for Childrens Services</td>\n",
       "      <td>2018-2019</td>\n",
       "      <td>Beverages</td>\n",
       "      <td>Beverages</td>\n",
       "      <td>juice, fruit punch, ss</td>\n",
       "      <td>100% Juice Variety Pack, 4 fl oz bottles</td>\n",
       "      <td>Enfamil</td>\n",
       "      <td>Babylab Inc.</td>\n",
       "      <td>Babylab Inc.</td>\n",
       "      <td>100.0</td>\n",
       "    </tr>\n",
       "    <tr>\n",
       "      <th>4</th>\n",
       "      <td>Administration for Childrens Services</td>\n",
       "      <td>2018-2019</td>\n",
       "      <td>Condiments &amp; Snacks</td>\n",
       "      <td>Condiments &amp; Snacks</td>\n",
       "      <td>cereal, baby, oatmeal</td>\n",
       "      <td>Single Grain Oatmeal Baby Cereal</td>\n",
       "      <td>Enfamil</td>\n",
       "      <td>Babylab Inc.</td>\n",
       "      <td>Babylab Inc.</td>\n",
       "      <td>10.0</td>\n",
       "    </tr>\n",
       "  </tbody>\n",
       "</table>\n",
       "</div>"
      ],
      "text/plain": [
       "                                  Agency Time Period   Food Product Group  \\\n",
       "0  Administration for Childrens Services   2018-2019                Meals   \n",
       "1  Administration for Childrens Services   2018-2019                Meals   \n",
       "2  Administration for Childrens Services   2018-2019                Meals   \n",
       "3  Administration for Childrens Services   2018-2019            Beverages   \n",
       "4  Administration for Childrens Services   2018-2019  Condiments & Snacks   \n",
       "\n",
       "  Food Product Category                 Product Name  \\\n",
       "0                 Meals  baby food, dinner, assorted   \n",
       "1                 Meals  baby food, dinner, assorted   \n",
       "2                 Meals           baby food, formula   \n",
       "3             Beverages       juice, fruit punch, ss   \n",
       "4   Condiments & Snacks        cereal, baby, oatmeal   \n",
       "\n",
       "                                        Product Type Origin Detail  \\\n",
       "0         Stage 2 Baby Food Dinner, Assorted Variety     Beech-Nut   \n",
       "1         Stage 3 Baby Food Dinner, Assorted Variety     Beech-Nut   \n",
       "2  Premium Nursette Ready-to-Feed Infant Formula,...       Enfamil   \n",
       "3           100% Juice Variety Pack, 4 fl oz bottles       Enfamil   \n",
       "4                   Single Grain Oatmeal Baby Cereal       Enfamil   \n",
       "\n",
       "    Distributor        Vendor  # of Units  \n",
       "0  Babylab Inc.  Babylab Inc.        40.0  \n",
       "1  Babylab Inc.  Babylab Inc.        40.0  \n",
       "2  Babylab Inc.  Babylab Inc.       200.0  \n",
       "3  Babylab Inc.  Babylab Inc.       100.0  \n",
       "4  Babylab Inc.  Babylab Inc.        10.0  "
      ]
     },
     "execution_count": 8,
     "metadata": {},
     "output_type": "execute_result"
    }
   ],
   "source": [
    "# посмотрим первые 5 строк обновленного датасета\n",
    "data.head()"
   ]
  },
  {
   "cell_type": "markdown",
   "id": "91d5bdd8",
   "metadata": {},
   "source": [
    "## Выполните простой анализ данных, такой как подсчет средних значений, медианы, минимальных и максимальных значений для числовых столбцов."
   ]
  },
  {
   "cell_type": "code",
   "execution_count": 9,
   "id": "f51535d7",
   "metadata": {},
   "outputs": [
    {
     "name": "stdout",
     "output_type": "stream",
     "text": [
      "Количество уникальных категорий продуктов: 25 категорий.\n"
     ]
    }
   ],
   "source": [
    "print('Количество уникальных категорий продуктов:', data['Food Product Category'].nunique(), 'категорий.')"
   ]
  },
  {
   "cell_type": "code",
   "execution_count": 10,
   "id": "5d7c31ab",
   "metadata": {},
   "outputs": [
    {
     "data": {
      "text/plain": [
       "array(['Meals', 'Beverages', 'Condiments & Snacks', 'Tree Nuts & Seeds',\n",
       "       'Legumes', 'Grain Products', 'Beef', 'Cheese',\n",
       "       'Turkey, Other Poultry', 'Rice', 'Fruit', 'Chicken', 'Yogurt',\n",
       "       'Eggs', 'Seafood', 'Vegetables', 'Butter', 'Milk',\n",
       "       'Roots & Tubers', 'Milk & Dairy', 'Meat', 'Pork',\n",
       "       'Fish (Farm-Raised)', 'Fish (Wild)', 'Non-Food'], dtype=object)"
      ]
     },
     "execution_count": 10,
     "metadata": {},
     "output_type": "execute_result"
    }
   ],
   "source": [
    "# посмотрим названия уникалных категорий\n",
    "data['Food Product Category'].unique()"
   ]
  },
  {
   "cell_type": "markdown",
   "id": "1b4d76d5",
   "metadata": {},
   "source": [
    "Рассмотрим столбец '# of Units', содержащий количество закупленных товаров. \n",
    "\n",
    "Так как количество товаров не может быть меньше единицы, посмотрим, есть ли такие аномальные значения в столбце:"
   ]
  },
  {
   "cell_type": "code",
   "execution_count": 11,
   "id": "94d575db",
   "metadata": {},
   "outputs": [
    {
     "name": "stdout",
     "output_type": "stream",
     "text": [
      "Количество строк, где менее 1 единицы товара: 242\n"
     ]
    }
   ],
   "source": [
    "# найдем аномальные значения\n",
    "filtered_data = data[data['# of Units'] < 1]\n",
    "\n",
    "print('Количество строк, где менее 1 единицы товара:',(filtered_data['# of Units']).count())"
   ]
  },
  {
   "cell_type": "code",
   "execution_count": 12,
   "id": "3165b641",
   "metadata": {},
   "outputs": [],
   "source": [
    "# найдем индексы строк, где значение '# of Units' меньше 1\n",
    "indexes_to_drop = data[data['# of Units'] < 1].index\n",
    "\n",
    "# удалим строки с найденными индексами\n",
    "data = data.drop(indexes_to_drop)"
   ]
  },
  {
   "cell_type": "markdown",
   "id": "03c7d55e",
   "metadata": {},
   "source": [
    "Посмотрим описательные статистики по данному столбцу:"
   ]
  },
  {
   "cell_type": "code",
   "execution_count": 13,
   "id": "8dbc0ff1",
   "metadata": {},
   "outputs": [
    {
     "name": "stdout",
     "output_type": "stream",
     "text": [
      "count      16910.00\n",
      "mean       19432.66\n",
      "std       603022.78\n",
      "min            1.00\n",
      "25%            3.00\n",
      "50%           18.00\n",
      "75%          222.75\n",
      "max     50509470.00\n",
      "Name: # of Units, dtype: float64\n"
     ]
    }
   ],
   "source": [
    "pd.set_option('display.float_format', '{:.2f}'.format)\n",
    "\n",
    "# смотрим описательные статистики для столбца '# of Units' в единицах\n",
    "print(data['# of Units'].describe())"
   ]
  },
  {
   "cell_type": "markdown",
   "id": "2fcb9e2b",
   "metadata": {},
   "source": [
    "Статистика count - отражает количество значений в столбце.\n",
    "\n",
    "\n",
    "mean - среднее значение, в данном случае оно не показательно, так как у нас абсолютно разные товары.\n",
    "\n",
    "\n",
    "std - отражает разброс значений вокруг среднего значения, в данном случае так же не показательно, так как зависит от непоказательного среднего.\n",
    "\n",
    "\n",
    "min - минимальное значение очевидно равно 1, так как менее 1 единицы товара закупить нельзя в данном случае нет закупки \"половины\" одного товара.\n",
    "\n",
    "\n",
    "Менее 25% товаров закупаются в количестве до 3 штук.\n",
    "\n",
    "\n",
    "Менее 50% товаров закупаются до 12 штук.\n",
    "\n",
    "\n",
    "Менее 75 % товаров заупаются до 222 штук.\n",
    "\n",
    "\n",
    "max - максимально было закуплено 50509470 единиц одного товара.\n",
    "\n",
    "\n",
    "Посмотрим, что это за товар:"
   ]
  },
  {
   "cell_type": "code",
   "execution_count": 14,
   "id": "a95c1b87",
   "metadata": {},
   "outputs": [
    {
     "data": {
      "text/html": [
       "<div>\n",
       "<style scoped>\n",
       "    .dataframe tbody tr th:only-of-type {\n",
       "        vertical-align: middle;\n",
       "    }\n",
       "\n",
       "    .dataframe tbody tr th {\n",
       "        vertical-align: top;\n",
       "    }\n",
       "\n",
       "    .dataframe thead th {\n",
       "        text-align: right;\n",
       "    }\n",
       "</style>\n",
       "<table border=\"1\" class=\"dataframe\">\n",
       "  <thead>\n",
       "    <tr style=\"text-align: right;\">\n",
       "      <th></th>\n",
       "      <th>Agency</th>\n",
       "      <th>Time Period</th>\n",
       "      <th>Food Product Group</th>\n",
       "      <th>Food Product Category</th>\n",
       "      <th>Product Name</th>\n",
       "      <th>Product Type</th>\n",
       "      <th>Origin Detail</th>\n",
       "      <th>Distributor</th>\n",
       "      <th>Vendor</th>\n",
       "      <th># of Units</th>\n",
       "    </tr>\n",
       "  </thead>\n",
       "  <tbody>\n",
       "    <tr>\n",
       "      <th>14645</th>\n",
       "      <td>Department of Education</td>\n",
       "      <td>2018-2019</td>\n",
       "      <td>Milk &amp; Dairy</td>\n",
       "      <td>Milk</td>\n",
       "      <td>milk, nonfat, chocolate</td>\n",
       "      <td>Milk Chocolate Fat Free</td>\n",
       "      <td>Dairy Maid, USA, Maryland</td>\n",
       "      <td>NaN</td>\n",
       "      <td>NaN</td>\n",
       "      <td>50509470.00</td>\n",
       "    </tr>\n",
       "  </tbody>\n",
       "</table>\n",
       "</div>"
      ],
      "text/plain": [
       "                        Agency Time Period Food Product Group  \\\n",
       "14645  Department of Education   2018-2019       Milk & Dairy   \n",
       "\n",
       "      Food Product Category             Product Name             Product Type  \\\n",
       "14645                  Milk  milk, nonfat, chocolate  Milk Chocolate Fat Free   \n",
       "\n",
       "                   Origin Detail Distributor Vendor  # of Units  \n",
       "14645  Dairy Maid, USA, Maryland         NaN    NaN 50509470.00  "
      ]
     },
     "metadata": {},
     "output_type": "display_data"
    }
   ],
   "source": [
    "display(data[data['# of Units'] ==  50509470])"
   ]
  },
  {
   "cell_type": "markdown",
   "id": "d94d3753",
   "metadata": {},
   "source": [
    "Больше всего было закуплено шоколадного обезжиренного молока, произведенного в США, штате Мэрилэнд. "
   ]
  },
  {
   "cell_type": "markdown",
   "id": "459d9692",
   "metadata": {},
   "source": [
    "# Шаг 3. Визуализация данных\n",
    "\n",
    "## Используйте библиотеку Matplotlib, чтобы создать несколько графиков для визуализации данных. Например, можно построить гистограмму распределения данных или график зависимости между двумя столбцами.\n",
    "\n",
    "## Добавьте заголовки графиков, подписи осей и легенду (если необходимо) для более четкой интерпретации."
   ]
  },
  {
   "cell_type": "code",
   "execution_count": 15,
   "id": "d4f135e0",
   "metadata": {},
   "outputs": [
    {
     "name": "stdout",
     "output_type": "stream",
     "text": [
      "Food Product Category\n",
      "Milk                    285399832.00\n",
      "Meals                    11069875.00\n",
      "Grain Products           10841751.00\n",
      "Fruit                     5375608.00\n",
      "Vegetables                4365165.00\n",
      "Condiments & Snacks       3574099.00\n",
      "Beverages                 2249345.00\n",
      "Chicken                   1233216.00\n",
      "Roots & Tubers             925936.00\n",
      "Yogurt                     905249.00\n",
      "Cheese                     714609.00\n",
      "Turkey, Other Poultry      590301.00\n",
      "Beef                       410083.00\n",
      "Seafood                    392002.00\n",
      "Legumes                    201609.00\n",
      "Tree Nuts & Seeds          120882.00\n",
      "Non-Food                    76800.00\n",
      "Rice                        54908.00\n",
      "Fish (Wild)                 31860.00\n",
      "Eggs                        19719.00\n",
      "Pork                        14925.00\n",
      "Fish (Farm-Raised)          14614.00\n",
      "Milk & Dairy                10996.00\n",
      "Meat                         8309.00\n",
      "Butter                       4631.00\n",
      "Name: # of Units, dtype: float64\n"
     ]
    },
    {
     "data": {
      "image/png": "[encoded data removed]",
      "text/plain": [
       "<Figure size 1296x720 with 1 Axes>"
      ]
     },
     "metadata": {
      "needs_background": "light"
     },
     "output_type": "display_data"
    }
   ],
   "source": [
    "# сгруппируем данные по категориям 'Food Product Category' и подсчет суммы '# of Units' для каждой категории\n",
    "grouped_data = data.groupby('Food Product Category')['# of Units'].sum().sort_values(ascending=False)\n",
    "\n",
    "print(grouped_data.sort_values(ascending=False))\n",
    "\n",
    "# построим столбчатую диаграмму\n",
    "plt.figure(figsize=(18, 10))  # размер графика \n",
    "\n",
    "grouped_data.plot(kind='bar', color='skyblue')\n",
    "plt.title('Количество товаров по категориям Food Product Category')\n",
    "plt.xlabel('Категория продуктов питания')\n",
    "plt.ylabel('Общее количество товаров (# of Units)')\n",
    "plt.xticks(rotation=45)  # поворот подписей по оси X для удобства чтения\n",
    "\n",
    "plt.show()"
   ]
  },
  {
   "cell_type": "markdown",
   "id": "5d1b9a4d",
   "metadata": {},
   "source": [
    "Видим, что наибольшее количество закупленных товаров приходится на категорию Молоко.\n",
    "\n",
    "Построим новый график без этой категории для большей наглядности."
   ]
  },
  {
   "cell_type": "code",
   "execution_count": 16,
   "id": "31e7dba3",
   "metadata": {},
   "outputs": [
    {
     "name": "stdout",
     "output_type": "stream",
     "text": [
      "Food Product Category\n",
      "Meals                   11069875.00\n",
      "Grain Products          10841751.00\n",
      "Fruit                    5375608.00\n",
      "Vegetables               4365165.00\n",
      "Condiments & Snacks      3574099.00\n",
      "Beverages                2249345.00\n",
      "Chicken                  1233216.00\n",
      "Roots & Tubers            925936.00\n",
      "Yogurt                    905249.00\n",
      "Cheese                    714609.00\n",
      "Turkey, Other Poultry     590301.00\n",
      "Beef                      410083.00\n",
      "Seafood                   392002.00\n",
      "Legumes                   201609.00\n",
      "Tree Nuts & Seeds         120882.00\n",
      "Non-Food                   76800.00\n",
      "Rice                       54908.00\n",
      "Fish (Wild)                31860.00\n",
      "Eggs                       19719.00\n",
      "Pork                       14925.00\n",
      "Fish (Farm-Raised)         14614.00\n",
      "Milk & Dairy               10996.00\n",
      "Meat                        8309.00\n",
      "Butter                      4631.00\n",
      "Name: # of Units, dtype: float64\n"
     ]
    },
    {
     "data": {
      "image/png": "[encoded data removed]",
      "text/plain": [
       "<Figure size 1296x432 with 1 Axes>"
      ]
     },
     "metadata": {
      "needs_background": "light"
     },
     "output_type": "display_data"
    }
   ],
   "source": [
    "# исключим категорию 'Milk'\n",
    "filtered_data = data[data['Food Product Category'] != 'Milk']\n",
    "\n",
    "# сгруппируем отфильтрованные данные по категориям 'Food Product Category' и подсчету суммы '# of Units' для каждой категории\n",
    "grouped_data = filtered_data.groupby('Food Product Category')['# of Units'].sum().sort_values(ascending=False)\n",
    "\n",
    "print(grouped_data.sort_values(ascending=False))\n",
    "\n",
    "# строим столбчатую диаграмму\n",
    "plt.figure(figsize=(18, 6))  \n",
    "\n",
    "grouped_data.plot(kind='bar', color='skyblue')\n",
    "plt.title('Количество товаров по категориям Food Product Category (исключая Milk)')\n",
    "plt.xlabel('Категория продуктов питания')\n",
    "plt.ylabel('Общее количество товаров (# of Units)')\n",
    "plt.xticks(rotation=45)  \n",
    "\n",
    "\n",
    "plt.show()"
   ]
  },
  {
   "cell_type": "markdown",
   "id": "e4c62002",
   "metadata": {},
   "source": [
    "На втором месте после молока продукты катерогии \"Meals\", что в контексте предостваленных данных не отражает, какие именно продукты входят в эту категорию. Наряду с данной категорией находится категория зерновых продуктов. \n",
    "\n",
    "Далее следуют фрукты и овощи, причем овощей закупается примерно на 1/5 меньше, чем фруктов.\n",
    "\n",
    "Наименьшее количество товаров закуплено в категории Масло."
   ]
  },
  {
   "cell_type": "markdown",
   "id": "9c3378c8",
   "metadata": {},
   "source": [
    "# Вывод"
   ]
  },
  {
   "cell_type": "markdown",
   "id": "86e743d1",
   "metadata": {},
   "source": [
    "Был рассмотрен датасет с категориями закупаемых продуктов в США за период 2018 - 2019 годов.\n",
    "\n",
    "Датасет состоит из 17208 сторок и 12 столбцов. \n",
    "\n",
    "Столбец Total Cost содержал критическое количество пропусков и без возможности их корректного заполнения. Данный столбец был удален. \n",
    "\n",
    "Также столбец Total Weight in lbs, в котором содержался объем закупок в фунтах, не имеел ценности для данного исследования, и был удален. \n",
    "\n",
    "Столбцы Food Product Group (9 групп) и Food Product Category (25 категорий) имеют практически одинаковые значения, за исключением того, что столбец с категориями имеет более мелкое дробление на категории.\n",
    "\n",
    "Столбец Product Name имеет в себе ячейки с перечислением нескольких описательных характеристик товара, что затрудняет исследование его значений в разрезе по категориям, так как неоднотипных значений слишком много.\n",
    "\n",
    "\n",
    "_________________________________________________________________________________________________________________________\n",
    "\n",
    "Исходя из данных было выяснено, что за период с 2018 по 2019 год наибольшим числом закупок были товары категории Молоко, далее следовали товары из категории Meals  и крупы.\n",
    "\n",
    "На третьем месте по закупкам были фрукты и овощи.\n",
    "\n",
    "Меньше всего было закуплено товаров категории Масло."
   ]
  },
  {
   "cell_type": "code",
   "execution_count": null,
   "id": "aec4d035",
   "metadata": {},
   "outputs": [],
   "source": []
  }
 ],
 "metadata": {
  "kernelspec": {
   "display_name": "Python 3 (ipykernel)",
   "language": "python",
   "name": "python3"
  },
  "language_info": {
   "codemirror_mode": {
    "name": "ipython",
    "version": 3
   },
   "file_extension": ".py",
   "mimetype": "text/x-python",
   "name": "python",
   "nbconvert_exporter": "python",
   "pygments_lexer": "ipython3",
   "version": "3.9.7"
  },
  "toc": {
   "base_numbering": 1,
   "nav_menu": {},
   "number_sections": true,
   "sideBar": true,
   "skip_h1_title": false,
   "title_cell": "Table of Contents",
   "title_sidebar": "Contents",
   "toc_cell": false,
   "toc_position": {
    "height": "calc(100% - 180px)",
    "left": "10px",
    "top": "150px",
    "width": "165px"
   },
   "toc_section_display": true,
   "toc_window_display": true
  }
 },
 "nbformat": 4,
 "nbformat_minor": 5
}
